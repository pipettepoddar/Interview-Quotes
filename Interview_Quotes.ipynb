{
 "cells": [
  {
   "cell_type": "code",
   "execution_count": 59,
   "id": "71ac1b5c",
   "metadata": {},
   "outputs": [],
   "source": [
    "import requests\n",
    "import numpy as np\n",
    "import pandas as pd\n",
    "from bs4 import BeautifulSoup\n",
    "from tqdm import tqdm"
   ]
  },
  {
   "cell_type": "code",
   "execution_count": 60,
   "id": "86ffe079",
   "metadata": {},
   "outputs": [],
   "source": [
    "url = 'https://devtomanager.com/interviews/page/{}/'"
   ]
  },
  {
   "cell_type": "code",
   "execution_count": 61,
   "id": "11235688",
   "metadata": {},
   "outputs": [
    {
     "data": {
      "text/plain": [
       "<Response [404]>"
      ]
     },
     "execution_count": 61,
     "metadata": {},
     "output_type": "execute_result"
    }
   ],
   "source": [
    "html = requests.get(url)\n",
    "html"
   ]
  },
  {
   "cell_type": "code",
   "execution_count": 62,
   "id": "fd6a58dd",
   "metadata": {},
   "outputs": [],
   "source": [
    "html = requests.get(url).text"
   ]
  },
  {
   "cell_type": "code",
   "execution_count": 63,
   "id": "163e3f57",
   "metadata": {},
   "outputs": [],
   "source": [
    "soup = BeautifulSoup(html, \"html.parser\")"
   ]
  },
  {
   "cell_type": "code",
   "execution_count": 64,
   "id": "6a0514e6",
   "metadata": {},
   "outputs": [
    {
     "data": {
      "text/plain": [
       "[]"
      ]
     },
     "execution_count": 64,
     "metadata": {},
     "output_type": "execute_result"
    }
   ],
   "source": [
    "name = [i.text.strip().split(',')[0] for i in soup.find_all('h5',class_='card-title')]\n",
    "name"
   ]
  },
  {
   "cell_type": "code",
   "execution_count": 65,
   "id": "90e0be27",
   "metadata": {},
   "outputs": [
    {
     "data": {
      "text/plain": [
       "[]"
      ]
     },
     "execution_count": 65,
     "metadata": {},
     "output_type": "execute_result"
    }
   ],
   "source": [
    "job = [i.text.strip().split(',')[1] for i in soup.find_all('h5',class_='card-title')]\n",
    "job"
   ]
  },
  {
   "cell_type": "code",
   "execution_count": 66,
   "id": "712ae180",
   "metadata": {},
   "outputs": [
    {
     "data": {
      "text/plain": [
       "[]"
      ]
     },
     "execution_count": 66,
     "metadata": {},
     "output_type": "execute_result"
    }
   ],
   "source": [
    "job1 = [i.split('at')[0] for i in job]\n",
    "job1"
   ]
  },
  {
   "cell_type": "code",
   "execution_count": 67,
   "id": "9a754a3e",
   "metadata": {},
   "outputs": [],
   "source": [
    "company=[]\n",
    "for i in job:\n",
    "    try:\n",
    "        company.append(i.split('at')[1])\n",
    "    except:\n",
    "        company.append(np.nan)"
   ]
  },
  {
   "cell_type": "code",
   "execution_count": 68,
   "id": "1869220b",
   "metadata": {},
   "outputs": [
    {
     "data": {
      "text/plain": [
       "[]"
      ]
     },
     "execution_count": 68,
     "metadata": {},
     "output_type": "execute_result"
    }
   ],
   "source": [
    "company"
   ]
  },
  {
   "cell_type": "code",
   "execution_count": 69,
   "id": "60e94e31",
   "metadata": {},
   "outputs": [
    {
     "data": {
      "text/plain": [
       "[]"
      ]
     },
     "execution_count": 69,
     "metadata": {},
     "output_type": "execute_result"
    }
   ],
   "source": [
    "quote = [i.find('p',class_='card-text').text.strip() for i in soup.find_all('div',class_='col-md-8')]\n",
    "quote"
   ]
  },
  {
   "cell_type": "code",
   "execution_count": 70,
   "id": "7adfeef4",
   "metadata": {},
   "outputs": [
    {
     "data": {
      "text/plain": [
       "[]"
      ]
     },
     "execution_count": 70,
     "metadata": {},
     "output_type": "execute_result"
    }
   ],
   "source": [
    "tags = [i.text.strip().split('\\n')[0].split(',')[0] for i in [i for i in soup.find_all('p',class_='card-text')]]\n",
    "tags"
   ]
  },
  {
   "cell_type": "code",
   "execution_count": 71,
   "id": "cdd1ca4c",
   "metadata": {},
   "outputs": [
    {
     "ename": "IndexError",
     "evalue": "list index out of range",
     "output_type": "error",
     "traceback": [
      "\u001b[1;31m---------------------------------------------------------------------------\u001b[0m",
      "\u001b[1;31mIndexError\u001b[0m                                Traceback (most recent call last)",
      "\u001b[1;32m~\\AppData\\Local\\Temp/ipykernel_12664/3386600971.py\u001b[0m in \u001b[0;36m<module>\u001b[1;34m\u001b[0m\n\u001b[0;32m      1\u001b[0m \u001b[0ma\u001b[0m\u001b[1;33m=\u001b[0m\u001b[0msoup\u001b[0m\u001b[1;33m.\u001b[0m\u001b[0mfind_all\u001b[0m\u001b[1;33m(\u001b[0m\u001b[1;34m'p'\u001b[0m\u001b[1;33m,\u001b[0m\u001b[0mclass_\u001b[0m\u001b[1;33m=\u001b[0m\u001b[1;34m'card-text'\u001b[0m\u001b[1;33m)\u001b[0m\u001b[1;33m\u001b[0m\u001b[1;33m\u001b[0m\u001b[0m\n\u001b[1;32m----> 2\u001b[1;33m \u001b[0mb\u001b[0m\u001b[1;33m=\u001b[0m\u001b[1;33m[\u001b[0m\u001b[0ma\u001b[0m\u001b[1;33m[\u001b[0m\u001b[0mi\u001b[0m\u001b[1;33m]\u001b[0m\u001b[1;33m.\u001b[0m\u001b[0mtext\u001b[0m\u001b[1;33m.\u001b[0m\u001b[0mstrip\u001b[0m\u001b[1;33m(\u001b[0m\u001b[1;33m)\u001b[0m \u001b[1;32mfor\u001b[0m \u001b[0mi\u001b[0m \u001b[1;32min\u001b[0m \u001b[0mrange\u001b[0m\u001b[1;33m(\u001b[0m\u001b[1;36m1\u001b[0m\u001b[1;33m,\u001b[0m\u001b[1;36m10\u001b[0m\u001b[1;33m,\u001b[0m\u001b[1;36m2\u001b[0m\u001b[1;33m)\u001b[0m\u001b[1;33m]\u001b[0m\u001b[1;33m\u001b[0m\u001b[1;33m\u001b[0m\u001b[0m\n\u001b[0m\u001b[0;32m      3\u001b[0m \u001b[0mdate\u001b[0m\u001b[1;33m=\u001b[0m\u001b[1;33m[\u001b[0m\u001b[0mi\u001b[0m\u001b[1;33m.\u001b[0m\u001b[0msplit\u001b[0m\u001b[1;33m(\u001b[0m\u001b[1;34m'\\n'\u001b[0m\u001b[1;33m)\u001b[0m\u001b[1;33m[\u001b[0m\u001b[1;36m0\u001b[0m\u001b[1;33m]\u001b[0m \u001b[1;32mfor\u001b[0m \u001b[0mi\u001b[0m \u001b[1;32min\u001b[0m \u001b[0mb\u001b[0m\u001b[1;33m]\u001b[0m\u001b[1;33m\u001b[0m\u001b[1;33m\u001b[0m\u001b[0m\n\u001b[0;32m      4\u001b[0m \u001b[0mtags\u001b[0m\u001b[1;33m=\u001b[0m\u001b[1;33m[\u001b[0m\u001b[0mi\u001b[0m\u001b[1;33m.\u001b[0m\u001b[0msplit\u001b[0m\u001b[1;33m(\u001b[0m\u001b[1;33m)\u001b[0m\u001b[1;33m[\u001b[0m\u001b[1;36m4\u001b[0m\u001b[1;33m:\u001b[0m\u001b[1;33m]\u001b[0m \u001b[1;32mfor\u001b[0m \u001b[0mi\u001b[0m \u001b[1;32min\u001b[0m \u001b[0mb\u001b[0m\u001b[1;33m]\u001b[0m\u001b[1;33m\u001b[0m\u001b[1;33m\u001b[0m\u001b[0m\n",
      "\u001b[1;32m~\\AppData\\Local\\Temp/ipykernel_12664/3386600971.py\u001b[0m in \u001b[0;36m<listcomp>\u001b[1;34m(.0)\u001b[0m\n\u001b[0;32m      1\u001b[0m \u001b[0ma\u001b[0m\u001b[1;33m=\u001b[0m\u001b[0msoup\u001b[0m\u001b[1;33m.\u001b[0m\u001b[0mfind_all\u001b[0m\u001b[1;33m(\u001b[0m\u001b[1;34m'p'\u001b[0m\u001b[1;33m,\u001b[0m\u001b[0mclass_\u001b[0m\u001b[1;33m=\u001b[0m\u001b[1;34m'card-text'\u001b[0m\u001b[1;33m)\u001b[0m\u001b[1;33m\u001b[0m\u001b[1;33m\u001b[0m\u001b[0m\n\u001b[1;32m----> 2\u001b[1;33m \u001b[0mb\u001b[0m\u001b[1;33m=\u001b[0m\u001b[1;33m[\u001b[0m\u001b[0ma\u001b[0m\u001b[1;33m[\u001b[0m\u001b[0mi\u001b[0m\u001b[1;33m]\u001b[0m\u001b[1;33m.\u001b[0m\u001b[0mtext\u001b[0m\u001b[1;33m.\u001b[0m\u001b[0mstrip\u001b[0m\u001b[1;33m(\u001b[0m\u001b[1;33m)\u001b[0m \u001b[1;32mfor\u001b[0m \u001b[0mi\u001b[0m \u001b[1;32min\u001b[0m \u001b[0mrange\u001b[0m\u001b[1;33m(\u001b[0m\u001b[1;36m1\u001b[0m\u001b[1;33m,\u001b[0m\u001b[1;36m10\u001b[0m\u001b[1;33m,\u001b[0m\u001b[1;36m2\u001b[0m\u001b[1;33m)\u001b[0m\u001b[1;33m]\u001b[0m\u001b[1;33m\u001b[0m\u001b[1;33m\u001b[0m\u001b[0m\n\u001b[0m\u001b[0;32m      3\u001b[0m \u001b[0mdate\u001b[0m\u001b[1;33m=\u001b[0m\u001b[1;33m[\u001b[0m\u001b[0mi\u001b[0m\u001b[1;33m.\u001b[0m\u001b[0msplit\u001b[0m\u001b[1;33m(\u001b[0m\u001b[1;34m'\\n'\u001b[0m\u001b[1;33m)\u001b[0m\u001b[1;33m[\u001b[0m\u001b[1;36m0\u001b[0m\u001b[1;33m]\u001b[0m \u001b[1;32mfor\u001b[0m \u001b[0mi\u001b[0m \u001b[1;32min\u001b[0m \u001b[0mb\u001b[0m\u001b[1;33m]\u001b[0m\u001b[1;33m\u001b[0m\u001b[1;33m\u001b[0m\u001b[0m\n\u001b[0;32m      4\u001b[0m \u001b[0mtags\u001b[0m\u001b[1;33m=\u001b[0m\u001b[1;33m[\u001b[0m\u001b[0mi\u001b[0m\u001b[1;33m.\u001b[0m\u001b[0msplit\u001b[0m\u001b[1;33m(\u001b[0m\u001b[1;33m)\u001b[0m\u001b[1;33m[\u001b[0m\u001b[1;36m4\u001b[0m\u001b[1;33m:\u001b[0m\u001b[1;33m]\u001b[0m \u001b[1;32mfor\u001b[0m \u001b[0mi\u001b[0m \u001b[1;32min\u001b[0m \u001b[0mb\u001b[0m\u001b[1;33m]\u001b[0m\u001b[1;33m\u001b[0m\u001b[1;33m\u001b[0m\u001b[0m\n",
      "\u001b[1;31mIndexError\u001b[0m: list index out of range"
     ]
    }
   ],
   "source": [
    "a=soup.find_all('p',class_='card-text')\n",
    "b=[a[i].text.strip() for i in range(1,10,2)]\n",
    "date=[i.split('\\n')[0] for i in b]\n",
    "tags=[i.split()[4:] for i in b]"
   ]
  },
  {
   "cell_type": "code",
   "execution_count": null,
   "id": "40694119",
   "metadata": {},
   "outputs": [],
   "source": [
    "date"
   ]
  },
  {
   "cell_type": "code",
   "execution_count": null,
   "id": "e91bdf7c",
   "metadata": {},
   "outputs": [],
   "source": [
    "tags"
   ]
  },
  {
   "cell_type": "code",
   "execution_count": 80,
   "id": "e0283618",
   "metadata": {},
   "outputs": [],
   "source": [
    "def static():\n",
    "    name = [i.text.strip().split(',')[0] for i in soup.find_all('h5',class_='card-title')]\n",
    "    job = [i.text.strip().split(',')[1] for i in soup.find_all('h5',class_='card-title')]\n",
    "    job1 = [i.split('at')[0] for i in job]\n",
    "    c=[]\n",
    "    for i in job:\n",
    "        try:\n",
    "            c.append(i.split('at')[1])\n",
    "        except:\n",
    "            c.append(np.nan)\n",
    "    quote = [i.find('p',class_='card-text').text.strip() for i in soup.find_all('div',class_='col-md-8')]\n",
    "    b=[a[i].text.strip() for i in range(1,10,2)]\n",
    "    date=[i.split('\\n')[0] for i in b]\n",
    "    tags=[i.split()[4:] for i in b]\n",
    "    return pd.DataFrame({'Employee Name':name,\n",
    "                         'Job Position':job1,\n",
    "                         'Company':c,\n",
    "                         'Interview quote':quote,\n",
    "                         'Date':date,\n",
    "                         'Tags':tags})"
   ]
  },
  {
   "cell_type": "code",
   "execution_count": 81,
   "id": "6906c100",
   "metadata": {},
   "outputs": [
    {
     "name": "stderr",
     "output_type": "stream",
     "text": [
      "100%|████████████████████████████████████████████████████████████████████████████████████| 5/5 [00:01<00:00,  4.53it/s]\n"
     ]
    }
   ],
   "source": [
    "tables=[]\n",
    "for i in tqdm(range(1,6)):\n",
    "    url1=url.format(i)\n",
    "    html=requests.get(url1).text\n",
    "    soup=BeautifulSoup(html,'html.parser')\n",
    "    a=soup.find_all('p',class_='card-text')\n",
    "    tables.append(static())"
   ]
  },
  {
   "cell_type": "code",
   "execution_count": 82,
   "id": "8daf9a2d",
   "metadata": {},
   "outputs": [
    {
     "data": {
      "text/html": [
       "<style type=\"text/css\">\n",
       "</style>\n",
       "<table id=\"T_3b4f3\">\n",
       "  <thead>\n",
       "    <tr>\n",
       "      <th id=\"T_3b4f3_level0_col0\" class=\"col_heading level0 col0\" >Employee Name</th>\n",
       "      <th id=\"T_3b4f3_level0_col1\" class=\"col_heading level0 col1\" >Job Position</th>\n",
       "      <th id=\"T_3b4f3_level0_col2\" class=\"col_heading level0 col2\" >Company</th>\n",
       "      <th id=\"T_3b4f3_level0_col3\" class=\"col_heading level0 col3\" >Interview quote</th>\n",
       "      <th id=\"T_3b4f3_level0_col4\" class=\"col_heading level0 col4\" >Date</th>\n",
       "      <th id=\"T_3b4f3_level0_col5\" class=\"col_heading level0 col5\" >Tags</th>\n",
       "    </tr>\n",
       "  </thead>\n",
       "  <tbody>\n",
       "    <tr>\n",
       "      <td id=\"T_3b4f3_row0_col0\" class=\"data row0 col0\" >Aviv Ben-Yosef</td>\n",
       "      <td id=\"T_3b4f3_row0_col1\" class=\"data row0 col1\" > Tech Executive Consultant</td>\n",
       "      <td id=\"T_3b4f3_row0_col2\" class=\"data row0 col2\" >nan</td>\n",
       "      <td id=\"T_3b4f3_row0_col3\" class=\"data row0 col3\" >“I want to set up managers to succeed, no matter how much background they’ve already got.”</td>\n",
       "      <td id=\"T_3b4f3_row0_col4\" class=\"data row0 col4\" >August 16, 2021</td>\n",
       "      <td id=\"T_3b4f3_row0_col5\" class=\"data row0 col5\" >['#coaching', '#consulting']</td>\n",
       "    </tr>\n",
       "    <tr>\n",
       "      <td id=\"T_3b4f3_row1_col0\" class=\"data row1 col0\" >Anand Safi</td>\n",
       "      <td id=\"T_3b4f3_row1_col1\" class=\"data row1 col1\" > Engineering Manager </td>\n",
       "      <td id=\"T_3b4f3_row1_col2\" class=\"data row1 col2\" > Mark43</td>\n",
       "      <td id=\"T_3b4f3_row1_col3\" class=\"data row1 col3\" >“I very well understand where my interests lie, which is being an enabler first and then a creator rather than being a creator/ maker 100%.”</td>\n",
       "      <td id=\"T_3b4f3_row1_col4\" class=\"data row1 col4\" >July 19, 2021</td>\n",
       "      <td id=\"T_3b4f3_row1_col5\" class=\"data row1 col5\" >['#coaching', '#frontend', '#full-stack', '#public-safety']</td>\n",
       "    </tr>\n",
       "    <tr>\n",
       "      <td id=\"T_3b4f3_row2_col0\" class=\"data row2 col0\" >Shawn Axsom</td>\n",
       "      <td id=\"T_3b4f3_row2_col1\" class=\"data row2 col1\" > Senior Engineering Manager </td>\n",
       "      <td id=\"T_3b4f3_row2_col2\" class=\"data row2 col2\" > Docker</td>\n",
       "      <td id=\"T_3b4f3_row2_col3\" class=\"data row2 col3\" >“Your focus (and challenges) grows from your direct reports, to teams, to departments, executives, and then external customers and partnerships.”</td>\n",
       "      <td id=\"T_3b4f3_row2_col4\" class=\"data row2 col4\" >July 05, 2021</td>\n",
       "      <td id=\"T_3b4f3_row2_col5\" class=\"data row2 col5\" >['#backend', '#coaching', '#information-systems', '#web']</td>\n",
       "    </tr>\n",
       "    <tr>\n",
       "      <td id=\"T_3b4f3_row3_col0\" class=\"data row3 col0\" >Kevin Doyle</td>\n",
       "      <td id=\"T_3b4f3_row3_col1\" class=\"data row3 col1\" > CTO </td>\n",
       "      <td id=\"T_3b4f3_row3_col2\" class=\"data row3 col2\" > p</td>\n",
       "      <td id=\"T_3b4f3_row3_col3\" class=\"data row3 col3\" >“If I can provide enough direction to allow people to focus on the jobs they’ll do better than I ever could, everybody wins.”</td>\n",
       "      <td id=\"T_3b4f3_row3_col4\" class=\"data row3 col4\" >June 21, 2021</td>\n",
       "      <td id=\"T_3b4f3_row3_col5\" class=\"data row3 col5\" >['#full-stack', '#health-tech']</td>\n",
       "    </tr>\n",
       "    <tr>\n",
       "      <td id=\"T_3b4f3_row4_col0\" class=\"data row4 col0\" >Arnab Sen</td>\n",
       "      <td id=\"T_3b4f3_row4_col1\" class=\"data row4 col1\" > Technical Delivery Manager </td>\n",
       "      <td id=\"T_3b4f3_row4_col2\" class=\"data row4 col2\" > AKQA</td>\n",
       "      <td id=\"T_3b4f3_row4_col3\" class=\"data row4 col3\" >“The switch to management can be highly rewarding and provide a level of independence, authority, and interactivity that a pure software engineering role may not offer.”</td>\n",
       "      <td id=\"T_3b4f3_row4_col4\" class=\"data row4 col4\" >May 10, 2021</td>\n",
       "      <td id=\"T_3b4f3_row4_col5\" class=\"data row4 col5\" >['#consulting', '#digital-marketing', '#e-commerce', '#product']</td>\n",
       "    </tr>\n",
       "    <tr>\n",
       "      <td id=\"T_3b4f3_row5_col0\" class=\"data row5 col0\" >Nicholas Cobb</td>\n",
       "      <td id=\"T_3b4f3_row5_col1\" class=\"data row5 col1\" > Senior Manager of Software Engineering </td>\n",
       "      <td id=\"T_3b4f3_row5_col2\" class=\"data row5 col2\" > Aurora Innov</td>\n",
       "      <td id=\"T_3b4f3_row5_col3\" class=\"data row5 col3\" >“Realizing that life as a manager will have its ups and downs has helped me come to terms with navigating organizational uncertainty, team change, being supportive and addressing social injustice issues, and other challenges.”</td>\n",
       "      <td id=\"T_3b4f3_row5_col4\" class=\"data row5 col4\" >April 26, 2021</td>\n",
       "      <td id=\"T_3b4f3_row5_col5\" class=\"data row5 col5\" >['#autonomous-driving', '#devops', '#ios', '#self-taught']</td>\n",
       "    </tr>\n",
       "    <tr>\n",
       "      <td id=\"T_3b4f3_row6_col0\" class=\"data row6 col0\" >Christoph Eicke</td>\n",
       "      <td id=\"T_3b4f3_row6_col1\" class=\"data row6 col1\" > Team Lead </td>\n",
       "      <td id=\"T_3b4f3_row6_col2\" class=\"data row6 col2\" > Xing GmbH</td>\n",
       "      <td id=\"T_3b4f3_row6_col3\" class=\"data row6 col3\" >“Sometimes it's better not to know the details of the tech in order to ask the simple but effective questions to move a project forward, let alone move someone else's career forward.”</td>\n",
       "      <td id=\"T_3b4f3_row6_col4\" class=\"data row6 col4\" >April 12, 2021</td>\n",
       "      <td id=\"T_3b4f3_row6_col5\" class=\"data row6 col5\" >['#full-stack', '#linux', '#self-taught', '#web']</td>\n",
       "    </tr>\n",
       "    <tr>\n",
       "      <td id=\"T_3b4f3_row7_col0\" class=\"data row7 col0\" >Sam Phillips</td>\n",
       "      <td id=\"T_3b4f3_row7_col1\" class=\"data row7 col1\" > Co-founder & CTO </td>\n",
       "      <td id=\"T_3b4f3_row7_col2\" class=\"data row7 col2\" > Residently</td>\n",
       "      <td id=\"T_3b4f3_row7_col3\" class=\"data row7 col3\" >“I think leadership and management are roles that have enormous potential to do a lot of good in the world - to create the inclusive, productive environments we need to build great products - and so it's worth doing well.”</td>\n",
       "      <td id=\"T_3b4f3_row7_col4\" class=\"data row7 col4\" >March 29, 2021</td>\n",
       "      <td id=\"T_3b4f3_row7_col5\" class=\"data row7 col5\" >['#coaching', '#devops', '#self-taught', '#startup', '#web']</td>\n",
       "    </tr>\n",
       "    <tr>\n",
       "      <td id=\"T_3b4f3_row8_col0\" class=\"data row8 col0\" >Dan Lines</td>\n",
       "      <td id=\"T_3b4f3_row8_col1\" class=\"data row8 col1\" > Co-founder & COO </td>\n",
       "      <td id=\"T_3b4f3_row8_col2\" class=\"data row8 col2\" > LinearB</td>\n",
       "      <td id=\"T_3b4f3_row8_col3\" class=\"data row8 col3\" >“Some sound advice I received is that if your people are doing well, then you're doing well. If your people are thriving, then you're doing a good job.”</td>\n",
       "      <td id=\"T_3b4f3_row8_col4\" class=\"data row8 col4\" >March 15, 2021</td>\n",
       "      <td id=\"T_3b4f3_row8_col5\" class=\"data row8 col5\" >['#cybersecurity', '#entrepreneurship', '#startup']</td>\n",
       "    </tr>\n",
       "    <tr>\n",
       "      <td id=\"T_3b4f3_row9_col0\" class=\"data row9 col0\" >Duncan Skelton</td>\n",
       "      <td id=\"T_3b4f3_row9_col1\" class=\"data row9 col1\" > Executive Coach </td>\n",
       "      <td id=\"T_3b4f3_row9_col2\" class=\"data row9 col2\" > Duncan Skelton Coaching</td>\n",
       "      <td id=\"T_3b4f3_row9_col3\" class=\"data row9 col3\" >“If you get the job, or are new to the role, the organisation already believes in you. Step into the role and own it. Only you can show up as your most brilliant self.”</td>\n",
       "      <td id=\"T_3b4f3_row9_col4\" class=\"data row9 col4\" >March 01, 2021</td>\n",
       "      <td id=\"T_3b4f3_row9_col5\" class=\"data row9 col5\" >['#coaching', '#enterprise', '#hardware', '#systems-programming', '#telecommunications']</td>\n",
       "    </tr>\n",
       "    <tr>\n",
       "      <td id=\"T_3b4f3_row10_col0\" class=\"data row10 col0\" >James Bedford</td>\n",
       "      <td id=\"T_3b4f3_row10_col1\" class=\"data row10 col1\" > Engineering Manager </td>\n",
       "      <td id=\"T_3b4f3_row10_col2\" class=\"data row10 col2\" > Attest</td>\n",
       "      <td id=\"T_3b4f3_row10_col3\" class=\"data row10 col3\" >“So many wait to be given permission to lead, however there is nothing stopping you from learning good management practices no matter what seniority level you are at.”</td>\n",
       "      <td id=\"T_3b4f3_row10_col4\" class=\"data row10 col4\" >February 15, 2021</td>\n",
       "      <td id=\"T_3b4f3_row10_col5\" class=\"data row10 col5\" >['#consumer-research', '#fintech', '#frontend', '#web']</td>\n",
       "    </tr>\n",
       "    <tr>\n",
       "      <td id=\"T_3b4f3_row11_col0\" class=\"data row11 col0\" >Monica Lent</td>\n",
       "      <td id=\"T_3b4f3_row11_col1\" class=\"data row11 col1\" > Founder </td>\n",
       "      <td id=\"T_3b4f3_row11_col2\" class=\"data row11 col2\" > Blogging for Devs</td>\n",
       "      <td id=\"T_3b4f3_row11_col3\" class=\"data row11 col3\" >“You have to have the big picture in mind. And that often requires sacrificing things you feel are important, for things that are more important in the grand scheme of things.”</td>\n",
       "      <td id=\"T_3b4f3_row11_col4\" class=\"data row11 col4\" >February 01, 2021</td>\n",
       "      <td id=\"T_3b4f3_row11_col5\" class=\"data row11 col5\" >['#fintech', '#frontend', '#self-taught']</td>\n",
       "    </tr>\n",
       "    <tr>\n",
       "      <td id=\"T_3b4f3_row12_col0\" class=\"data row12 col0\" >Andrew Heffernan</td>\n",
       "      <td id=\"T_3b4f3_row12_col1\" class=\"data row12 col1\" > Director of Engineering </td>\n",
       "      <td id=\"T_3b4f3_row12_col2\" class=\"data row12 col2\" > Validity Inc</td>\n",
       "      <td id=\"T_3b4f3_row12_col3\" class=\"data row12 col3\" >“I was definitely drinking from the firehose, but I would not trade this experience for anything.”</td>\n",
       "      <td id=\"T_3b4f3_row12_col4\" class=\"data row12 col4\" >January 18, 2021</td>\n",
       "      <td id=\"T_3b4f3_row12_col5\" class=\"data row12 col5\" >['#cloud', '#self-taught', '#web']</td>\n",
       "    </tr>\n",
       "    <tr>\n",
       "      <td id=\"T_3b4f3_row13_col0\" class=\"data row13 col0\" >Abhishek Karmakar</td>\n",
       "      <td id=\"T_3b4f3_row13_col1\" class=\"data row13 col1\" > Senior Engineering Manager </td>\n",
       "      <td id=\"T_3b4f3_row13_col2\" class=\"data row13 col2\" > Target Corpor</td>\n",
       "      <td id=\"T_3b4f3_row13_col3\" class=\"data row13 col3\" >“Understanding people, their personalities, leadership quirks and management skills really helped me navigate the web of work that has presented itself in this new role.”</td>\n",
       "      <td id=\"T_3b4f3_row13_col4\" class=\"data row13 col4\" >November 30, 2020</td>\n",
       "      <td id=\"T_3b4f3_row13_col5\" class=\"data row13 col5\" >['#android', '#cloud', '#distributed-systems', '#mobile']</td>\n",
       "    </tr>\n",
       "    <tr>\n",
       "      <td id=\"T_3b4f3_row14_col0\" class=\"data row14 col0\" >Greg Thomas</td>\n",
       "      <td id=\"T_3b4f3_row14_col1\" class=\"data row14 col1\" > Founder </td>\n",
       "      <td id=\"T_3b4f3_row14_col2\" class=\"data row14 col2\" > BetaRover Inc</td>\n",
       "      <td id=\"T_3b4f3_row14_col3\" class=\"data row14 col3\" >“I’ve said a few times to the team that they are the first priority, before we release anything. As such, if they need me, we drop everything else.”</td>\n",
       "      <td id=\"T_3b4f3_row14_col4\" class=\"data row14 col4\" >November 16, 2020</td>\n",
       "      <td id=\"T_3b4f3_row14_col5\" class=\"data row14 col5\" >['#cloud', '#enterprise', '#infrastructure', '#self-taught']</td>\n",
       "    </tr>\n",
       "    <tr>\n",
       "      <td id=\"T_3b4f3_row15_col0\" class=\"data row15 col0\" >Siddharth Rao</td>\n",
       "      <td id=\"T_3b4f3_row15_col1\" class=\"data row15 col1\" > Staff Software Engineer & Tech Lead </td>\n",
       "      <td id=\"T_3b4f3_row15_col2\" class=\"data row15 col2\" > Twitter</td>\n",
       "      <td id=\"T_3b4f3_row15_col3\" class=\"data row15 col3\" >“It is quite important that every engineer set goals and challenges for themselves that push them beyond what the current or even the next ladder step requires of them.”</td>\n",
       "      <td id=\"T_3b4f3_row15_col4\" class=\"data row15 col4\" >November 02, 2020</td>\n",
       "      <td id=\"T_3b4f3_row15_col5\" class=\"data row15 col5\" >['#adtech', '#mentorship']</td>\n",
       "    </tr>\n",
       "    <tr>\n",
       "      <td id=\"T_3b4f3_row16_col0\" class=\"data row16 col0\" >Marc Littlemore</td>\n",
       "      <td id=\"T_3b4f3_row16_col1\" class=\"data row16 col1\" > Team Lead </td>\n",
       "      <td id=\"T_3b4f3_row16_col2\" class=\"data row16 col2\" > BBC</td>\n",
       "      <td id=\"T_3b4f3_row16_col3\" class=\"data row16 col3\" >“You have to realise that your value comes from building and shaping a high-performing team who work well together and have a clear direction.”</td>\n",
       "      <td id=\"T_3b4f3_row16_col4\" class=\"data row16 col4\" >October 19, 2020</td>\n",
       "      <td id=\"T_3b4f3_row16_col5\" class=\"data row16 col5\" >['#game-development', '#remote', '#web']</td>\n",
       "    </tr>\n",
       "    <tr>\n",
       "      <td id=\"T_3b4f3_row17_col0\" class=\"data row17 col0\" >Senthil Arivudainambi</td>\n",
       "      <td id=\"T_3b4f3_row17_col1\" class=\"data row17 col1\" > VP of Engineering and Product </td>\n",
       "      <td id=\"T_3b4f3_row17_col2\" class=\"data row17 col2\" > Walker & Company</td>\n",
       "      <td id=\"T_3b4f3_row17_col3\" class=\"data row17 col3\" >“What made you successful in your current role won’t necessarily be the same characteristics that the new position requires. In some areas, you will be starting from square 1, and you will make mistakes.”</td>\n",
       "      <td id=\"T_3b4f3_row17_col4\" class=\"data row17 col4\" >October 05, 2020</td>\n",
       "      <td id=\"T_3b4f3_row17_col5\" class=\"data row17 col5\" >['#distributed-teams', '#health-tech']</td>\n",
       "    </tr>\n",
       "    <tr>\n",
       "      <td id=\"T_3b4f3_row18_col0\" class=\"data row18 col0\" >Karthik Kotha</td>\n",
       "      <td id=\"T_3b4f3_row18_col1\" class=\"data row18 col1\" > Engineering Manager </td>\n",
       "      <td id=\"T_3b4f3_row18_col2\" class=\"data row18 col2\" > Kroger</td>\n",
       "      <td id=\"T_3b4f3_row18_col3\" class=\"data row18 col3\" >“I have learned to track my impact in other ways, by the number of meaningful 1:1s, the number of blockers removed for my teams, and active participation in meetings.”</td>\n",
       "      <td id=\"T_3b4f3_row18_col4\" class=\"data row18 col4\" >September 21, 2020</td>\n",
       "      <td id=\"T_3b4f3_row18_col5\" class=\"data row18 col5\" >['#e-commerce', '#frontend', '#startup']</td>\n",
       "    </tr>\n",
       "    <tr>\n",
       "      <td id=\"T_3b4f3_row19_col0\" class=\"data row19 col0\" >Markus Thurner</td>\n",
       "      <td id=\"T_3b4f3_row19_col1\" class=\"data row19 col1\" > Engineering Lead </td>\n",
       "      <td id=\"T_3b4f3_row19_col2\" class=\"data row19 col2\" > Cimpress</td>\n",
       "      <td id=\"T_3b4f3_row19_col3\" class=\"data row19 col3\" >“The transition to becoming an engineering lead has definitely made me get better at being able to phrase abstract thoughts into something that creates clarity for the team.”</td>\n",
       "      <td id=\"T_3b4f3_row19_col4\" class=\"data row19 col4\" >September 07, 2020</td>\n",
       "      <td id=\"T_3b4f3_row19_col5\" class=\"data row19 col5\" >['#data-platform', '#distributed-teams', '#media']</td>\n",
       "    </tr>\n",
       "    <tr>\n",
       "      <td id=\"T_3b4f3_row20_col0\" class=\"data row20 col0\" >Dhimil Gosalia</td>\n",
       "      <td id=\"T_3b4f3_row20_col1\" class=\"data row20 col1\" > Director of Engineering </td>\n",
       "      <td id=\"T_3b4f3_row20_col2\" class=\"data row20 col2\" > BrowserStack</td>\n",
       "      <td id=\"T_3b4f3_row20_col3\" class=\"data row20 col3\" >“What I enjoy the most is solving problems. I enable my team to work in isolation but am always happy to learn about their problem solving stories.”</td>\n",
       "      <td id=\"T_3b4f3_row20_col4\" class=\"data row20 col4\" >August 24, 2020</td>\n",
       "      <td id=\"T_3b4f3_row20_col5\" class=\"data row20 col5\" >['#infrastructure', '#mobile', '#network-engineering', '#startup']</td>\n",
       "    </tr>\n",
       "    <tr>\n",
       "      <td id=\"T_3b4f3_row21_col0\" class=\"data row21 col0\" >Daniel Millington</td>\n",
       "      <td id=\"T_3b4f3_row21_col1\" class=\"data row21 col1\" > Engineering Manager </td>\n",
       "      <td id=\"T_3b4f3_row21_col2\" class=\"data row21 col2\" > Samsara</td>\n",
       "      <td id=\"T_3b4f3_row21_col3\" class=\"data row21 col3\" >“When I’m able to see engineers on my teams tackling larger and larger projects, addressing technical debt before it cripples us, and generally working well together with each other - this is what excites me about the work I do.”</td>\n",
       "      <td id=\"T_3b4f3_row21_col4\" class=\"data row21 col4\" >August 10, 2020</td>\n",
       "      <td id=\"T_3b4f3_row21_col5\" class=\"data row21 col5\" >['#embedded-systems', '#infrastructure', '#internet-of-things']</td>\n",
       "    </tr>\n",
       "    <tr>\n",
       "      <td id=\"T_3b4f3_row22_col0\" class=\"data row22 col0\" >Dhruv Agarwal</td>\n",
       "      <td id=\"T_3b4f3_row22_col1\" class=\"data row22 col1\" > Engineering Manager </td>\n",
       "      <td id=\"T_3b4f3_row22_col2\" class=\"data row22 col2\" > Shuttl</td>\n",
       "      <td id=\"T_3b4f3_row22_col3\" class=\"data row22 col3\" >“Always think about the larger picture and not just the sprint at hand. Always question the rationale behind everything you or your team does in the context of the larger goal.”</td>\n",
       "      <td id=\"T_3b4f3_row22_col4\" class=\"data row22 col4\" >July 27, 2020</td>\n",
       "      <td id=\"T_3b4f3_row22_col5\" class=\"data row22 col5\" >['#product', '#web']</td>\n",
       "    </tr>\n",
       "    <tr>\n",
       "      <td id=\"T_3b4f3_row23_col0\" class=\"data row23 col0\" >Swaathi Kakarla</td>\n",
       "      <td id=\"T_3b4f3_row23_col1\" class=\"data row23 col1\" > Co-founder & CTO </td>\n",
       "      <td id=\"T_3b4f3_row23_col2\" class=\"data row23 col2\" > Skcript</td>\n",
       "      <td id=\"T_3b4f3_row23_col3\" class=\"data row23 col3\" >“People management is not like giving instructions to a program, it’s more like training an AI model! It takes time and effort, you can’t judge on the first go.”</td>\n",
       "      <td id=\"T_3b4f3_row23_col4\" class=\"data row23 col4\" >July 13, 2020</td>\n",
       "      <td id=\"T_3b4f3_row23_col5\" class=\"data row23 col5\" >['#elixir', '#product', '#ruby-on-rails', '#web']</td>\n",
       "    </tr>\n",
       "    <tr>\n",
       "      <td id=\"T_3b4f3_row24_col0\" class=\"data row24 col0\" >Mark Shropshire</td>\n",
       "      <td id=\"T_3b4f3_row24_col1\" class=\"data row24 col1\" > Senior Director of Development </td>\n",
       "      <td id=\"T_3b4f3_row24_col2\" class=\"data row24 col2\" > Mediacurrent</td>\n",
       "      <td id=\"T_3b4f3_row24_col3\" class=\"data row24 col3\" >“You can lead in your current role. No need to wait for a title with “manager” in it. Practice active listening, mentoring, delegation, and receiving/providing direct feedback.”</td>\n",
       "      <td id=\"T_3b4f3_row24_col4\" class=\"data row24 col4\" >June 29, 2020</td>\n",
       "      <td id=\"T_3b4f3_row24_col5\" class=\"data row24 col5\" >['#mentorship', '#open-source']</td>\n",
       "    </tr>\n",
       "  </tbody>\n",
       "</table>\n"
      ],
      "text/plain": [
       "<pandas.io.formats.style.Styler at 0x20760653dc0>"
      ]
     },
     "execution_count": 82,
     "metadata": {},
     "output_type": "execute_result"
    }
   ],
   "source": [
    "df=pd.concat(tables,axis=0)\n",
    "df.style.hide(axis='index')"
   ]
  },
  {
   "cell_type": "code",
   "execution_count": 75,
   "id": "b35d32bd",
   "metadata": {},
   "outputs": [
    {
     "data": {
      "text/plain": [
       "(25, 6)"
      ]
     },
     "execution_count": 75,
     "metadata": {},
     "output_type": "execute_result"
    }
   ],
   "source": [
    "df.shape"
   ]
  },
  {
   "cell_type": "code",
   "execution_count": 76,
   "id": "7a178465",
   "metadata": {},
   "outputs": [
    {
     "name": "stdout",
     "output_type": "stream",
     "text": [
      "<class 'pandas.core.frame.DataFrame'>\n",
      "Int64Index: 25 entries, 0 to 4\n",
      "Data columns (total 6 columns):\n",
      " #   Column           Non-Null Count  Dtype \n",
      "---  ------           --------------  ----- \n",
      " 0   Employee Name    25 non-null     object\n",
      " 1   Job Position     25 non-null     object\n",
      " 2   Company          24 non-null     object\n",
      " 3   Interview quote  25 non-null     object\n",
      " 4   Date             25 non-null     object\n",
      " 5   Tags             25 non-null     object\n",
      "dtypes: object(6)\n",
      "memory usage: 1.4+ KB\n"
     ]
    }
   ],
   "source": [
    "df.info()"
   ]
  },
  {
   "cell_type": "code",
   "execution_count": 77,
   "id": "789a9e49",
   "metadata": {},
   "outputs": [],
   "source": [
    "df['Date']=pd.to_datetime(df['Date'])"
   ]
  },
  {
   "cell_type": "code",
   "execution_count": 78,
   "id": "d94015a5",
   "metadata": {},
   "outputs": [
    {
     "name": "stdout",
     "output_type": "stream",
     "text": [
      "<class 'pandas.core.frame.DataFrame'>\n",
      "Int64Index: 25 entries, 0 to 4\n",
      "Data columns (total 6 columns):\n",
      " #   Column           Non-Null Count  Dtype         \n",
      "---  ------           --------------  -----         \n",
      " 0   Employee Name    25 non-null     object        \n",
      " 1   Job Position     25 non-null     object        \n",
      " 2   Company          24 non-null     object        \n",
      " 3   Interview quote  25 non-null     object        \n",
      " 4   Date             25 non-null     datetime64[ns]\n",
      " 5   Tags             25 non-null     object        \n",
      "dtypes: datetime64[ns](1), object(5)\n",
      "memory usage: 1.4+ KB\n"
     ]
    }
   ],
   "source": [
    "df.info()"
   ]
  },
  {
   "cell_type": "code",
   "execution_count": 79,
   "id": "df8c06df",
   "metadata": {},
   "outputs": [],
   "source": [
    "df['Company'].replace({'p':'patientMpower'},inplace=True)"
   ]
  },
  {
   "cell_type": "code",
   "execution_count": null,
   "id": "376b6026",
   "metadata": {},
   "outputs": [],
   "source": [
    "df.to_csv('Interview_Quotes.csv',index=False)"
   ]
  }
 ],
 "metadata": {
  "kernelspec": {
   "display_name": "Python 3 (ipykernel)",
   "language": "python",
   "name": "python3"
  },
  "language_info": {
   "codemirror_mode": {
    "name": "ipython",
    "version": 3
   },
   "file_extension": ".py",
   "mimetype": "text/x-python",
   "name": "python",
   "nbconvert_exporter": "python",
   "pygments_lexer": "ipython3",
   "version": "3.9.7"
  }
 },
 "nbformat": 4,
 "nbformat_minor": 5
}
